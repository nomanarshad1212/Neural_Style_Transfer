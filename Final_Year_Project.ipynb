{
  "nbformat": 4,
  "nbformat_minor": 0,
  "metadata": {
    "colab": {
      "name": "Final_Year_Project.ipynb",
      "provenance": [],
      "collapsed_sections": [],
      "toc_visible": true,
      "authorship_tag": "ABX9TyM5ZCQJusvt/bDU8sV4Akt2",
      "include_colab_link": true
    },
    "kernelspec": {
      "name": "python3",
      "display_name": "Python 3"
    },
    "language_info": {
      "name": "python"
    },
    "accelerator": "GPU"
  },
  "cells": [
    {
      "cell_type": "markdown",
      "metadata": {
        "id": "view-in-github",
        "colab_type": "text"
      },
      "source": [
        "<a href=\"https://colab.research.google.com/github/nomanarshad1212/Neural_Style_Transfer/blob/Final_Year_Project/Final_Year_Project.ipynb\" target=\"_parent\"><img src=\"https://colab.research.google.com/assets/colab-badge.svg\" alt=\"Open In Colab\"/></a>"
      ]
    },
    {
      "cell_type": "code",
      "source": [
        ""
      ],
      "metadata": {
        "id": "uDM0ef9k07Db"
      },
      "execution_count": null,
      "outputs": []
    },
    {
      "cell_type": "markdown",
      "source": [
        "# **Required Libraries**\n",
        "### Installing the required libraries:\n",
        "I am using TensorFlow version 1.x\n",
        "\n",
        "Here I am installing Scipy Library"
      ],
      "metadata": {
        "id": "KywA8gfm3X_3"
      }
    },
    {
      "cell_type": "code",
      "source": [
        "%tensorflow_version 1.x"
      ],
      "metadata": {
        "id": "Vj8iNK8JK2GP"
      },
      "execution_count": null,
      "outputs": []
    },
    {
      "cell_type": "code",
      "source": [
        "!pip install -q 'scipy<=1.2.1'  # scipy.misc.imread is deprecated in later versions"
      ],
      "metadata": {
        "id": "nRwytAedB2n_"
      },
      "execution_count": null,
      "outputs": []
    },
    {
      "cell_type": "markdown",
      "source": [
        "### Cloning files from my GitHUb repository"
      ],
      "metadata": {
        "id": "tQupbuGN40d-"
      }
    },
    {
      "cell_type": "code",
      "source": [
        "!git clone https://github.com/nomanarshad1212/Neural_Style_Transfer.git"
      ],
      "metadata": {
        "collapsed": true,
        "id": "lyRSjW3FCbRj"
      },
      "execution_count": null,
      "outputs": []
    },
    {
      "cell_type": "markdown",
      "source": [
        "### Defining path for Neural Network"
      ],
      "metadata": {
        "id": "nqt23TAS7QRF"
      }
    },
    {
      "cell_type": "code",
      "source": [
        "dir_path = \"/content/Neural_Style_Transfer\""
      ],
      "metadata": {
        "id": "5daVNBGCCbsw"
      },
      "execution_count": null,
      "outputs": []
    },
    {
      "cell_type": "markdown",
      "source": [
        "### Declaring Network"
      ],
      "metadata": {
        "id": "_EQV1wQZ7RIZ"
      }
    },
    {
      "cell_type": "code",
      "source": [
        "NETWORK = 'Network' + '.py'"
      ],
      "metadata": {
        "id": "5kj6MoAXCbum"
      },
      "execution_count": null,
      "outputs": []
    },
    {
      "cell_type": "markdown",
      "source": [
        "### List all the arguments that can be supplied to Network.py"
      ],
      "metadata": {
        "id": "ARwwdiDb7R1-"
      }
    },
    {
      "cell_type": "code",
      "source": [
        "!python {dir_path}/{NETWORK} -h"
      ],
      "metadata": {
        "id": "vJAabkeBCbxQ"
      },
      "execution_count": null,
      "outputs": []
    },
    {
      "cell_type": "markdown",
      "source": [
        "# Network Parameters\n",
        "\n",
        "Here, we will setup all of the parameters for the `Network.py` script."
      ],
      "metadata": {
        "id": "D0QVkQFM7SmU"
      }
    },
    {
      "cell_type": "code",
      "source": [
        "# Image size\n",
        "IMAGE_SIZE = 500\n",
        "\n",
        "# Loss Weights\n",
        "CONTENT_WEIGHT = 0.025\n",
        "STYLE_WEIGHT = 1.0\n",
        "STYLE_SCALE = 1.0\n",
        "TOTAL_VARIATION_WEIGHT = 8.5e-5\n",
        "CONTENT_LOSS_TYPE = 0\n",
        "\n",
        "# Training arguments\n",
        "NUM_ITERATIONS = 10\n",
        "MODEL = 'vgg19'\n",
        "RESCALE_IMAGE = 'false'\n",
        "MAINTAIN_ASPECT_RATIO = 'false'  # Set to false if OOM occurs\n",
        "\n",
        "# Transfer Arguments\n",
        "CONTENT_LAYER = 'conv' + '5_2'  # only change the number 5_2 to something in a similar format\n",
        "INITIALIZATION_IMAGE = 'content'\n",
        "POOLING_TYPE = 'max'\n",
        "\n",
        "# Extra arguments\n",
        "PRESERVE_COLOR = 'false'\n",
        "MIN_IMPROVEMENT = 0.0"
      ],
      "metadata": {
        "id": "P8edtrNoCbz0"
      },
      "execution_count": null,
      "outputs": []
    },
    {
      "cell_type": "markdown",
      "source": [
        ""
      ],
      "metadata": {
        "id": "YPv8F-3c7TlX"
      }
    },
    {
      "cell_type": "markdown",
      "source": [
        "# Content Image\n",
        "Uploading the Content Image from Files"
      ],
      "metadata": {
        "id": "pkoCu4SV7UAk"
      }
    },
    {
      "cell_type": "code",
      "source": [
        "from google.colab import files\n",
        "\n",
        "content_img = files.upload()"
      ],
      "metadata": {
        "id": "O1BnW99KOCMb"
      },
      "execution_count": null,
      "outputs": []
    },
    {
      "cell_type": "markdown",
      "source": [
        "### Saving Content Image for Temporary Use"
      ],
      "metadata": {
        "id": "pD53nyez7Uqy"
      }
    },
    {
      "cell_type": "code",
      "source": [
        "import os\n",
        "\n",
        "CONTENT_IMAGE_FN = list(content_img)[0]\n",
        "CONTENT_IMAGE_FN_temp = CONTENT_IMAGE_FN.strip().replace(\" \", \"_\")\n",
        "\n",
        "if CONTENT_IMAGE_FN != CONTENT_IMAGE_FN_temp:\n",
        "  os.rename(CONTENT_IMAGE_FN, CONTENT_IMAGE_FN_temp)\n",
        "  CONTENT_IMAGE_FN = CONTENT_IMAGE_FN_temp\n",
        "  \n",
        "print(\"Content image filename :\", CONTENT_IMAGE_FN)"
      ],
      "metadata": {
        "id": "Lixku9XeOGYX"
      },
      "execution_count": null,
      "outputs": []
    },
    {
      "cell_type": "markdown",
      "source": [
        "### Preparing Content Image"
      ],
      "metadata": {
        "id": "KuBBldVV7VZ4"
      }
    },
    {
      "cell_type": "code",
      "source": [
        "%matplotlib inline\n",
        "import matplotlib.pyplot as plt\n",
        "\n",
        "fig = plt.figure(figsize=(10, 10))\n",
        "img = plt.imread(CONTENT_IMAGE_FN)\n",
        "plt.axis('off')\n",
        "plt.title('Content image')\n",
        "plt.imshow(img)"
      ],
      "metadata": {
        "id": "DKgBVuUpOLVo"
      },
      "execution_count": null,
      "outputs": []
    },
    {
      "cell_type": "markdown",
      "source": [
        "# Style Image\n",
        "Uploading the style image from files"
      ],
      "metadata": {
        "id": "1nass7RM7WFM"
      }
    },
    {
      "cell_type": "code",
      "source": [
        "style_img = files.upload()"
      ],
      "metadata": {
        "id": "ycHlTmPSON48"
      },
      "execution_count": null,
      "outputs": []
    },
    {
      "cell_type": "markdown",
      "source": [
        "### Saving Style Image for Temporary Use"
      ],
      "metadata": {
        "id": "b6ShdEWc7W0J"
      }
    },
    {
      "cell_type": "code",
      "source": [
        "STYLE_IMAGE_FN = list(style_img)[0]\n",
        "STYLE_IMAGE_FN_temp = STYLE_IMAGE_FN.strip().replace(\" \", \"_\")\n",
        "\n",
        "if STYLE_IMAGE_FN != STYLE_IMAGE_FN_temp:\n",
        "  os.rename(STYLE_IMAGE_FN, STYLE_IMAGE_FN_temp)\n",
        "  STYLE_IMAGE_FN = STYLE_IMAGE_FN_temp\n",
        "\n",
        "print(\"Style image filename :\", STYLE_IMAGE_FN)"
      ],
      "metadata": {
        "id": "qDkJkmOwORyC"
      },
      "execution_count": null,
      "outputs": []
    },
    {
      "cell_type": "markdown",
      "source": [
        "### Preparing Style Image"
      ],
      "metadata": {
        "id": "2btcB6Ph7XnN"
      }
    },
    {
      "cell_type": "code",
      "source": [
        "fig = plt.figure(figsize=(10, 10))\n",
        "img = plt.imread(STYLE_IMAGE_FN)\n",
        "plt.axis('off')\n",
        "plt.title('Style image')\n",
        "plt.imshow(img)"
      ],
      "metadata": {
        "id": "D9kveA6nOU18"
      },
      "execution_count": null,
      "outputs": []
    },
    {
      "cell_type": "markdown",
      "source": [
        "## Declaration for Storing Generated Images"
      ],
      "metadata": {
        "id": "jtTKn9tj7ZRm"
      }
    },
    {
      "cell_type": "code",
      "source": [
        "import os\n",
        "\n",
        "RESULT_DIR = \"generated/\"\n",
        "RESULT_PREFIX = RESULT_DIR + \"gen\"\n",
        "FINAL_IMAGE_PATH = RESULT_PREFIX + \"_at_iteration_%d.png\" % (NUM_ITERATIONS)\n",
        "\n",
        "if not os.path.exists(RESULT_DIR):\n",
        "  os.makedirs(RESULT_DIR)"
      ],
      "metadata": {
        "id": "XhZsjl6KOX4V"
      },
      "execution_count": null,
      "outputs": []
    },
    {
      "cell_type": "markdown",
      "source": [
        "# Running Neural Network"
      ],
      "metadata": {
        "id": "aH6sRyn87bAX"
      }
    },
    {
      "cell_type": "code",
      "source": [
        "!python {dir_path}/{NETWORK} {CONTENT_IMAGE_FN} {STYLE_IMAGE_FN} {RESULT_PREFIX} \\\n",
        "  --image_size {IMAGE_SIZE} --content_weight {CONTENT_WEIGHT} --style_weight \\\n",
        "  {STYLE_WEIGHT} --style_scale {STYLE_SCALE} --total_variation_weight \\\n",
        "  {TOTAL_VARIATION_WEIGHT} --content_loss_type {CONTENT_LOSS_TYPE} --num_iter \\\n",
        "  {NUM_ITERATIONS} --model {MODEL} --rescale_image {RESCALE_IMAGE} \\\n",
        "  --maintain_aspect_ratio {MAINTAIN_ASPECT_RATIO} --content_layer {CONTENT_LAYER} \\\n",
        "  --init_image {INITIALIZATION_IMAGE} --pool_type {POOLING_TYPE} --preserve_color \\\n",
        "  {PRESERVE_COLOR} --min_improvement {MIN_IMPROVEMENT}"
      ],
      "metadata": {
        "id": "Srwl9F07Oa3h"
      },
      "execution_count": null,
      "outputs": []
    },
    {
      "cell_type": "markdown",
      "source": [
        "### Preparing last generated Image"
      ],
      "metadata": {
        "id": "YNuGgLTM7bmL"
      }
    },
    {
      "cell_type": "code",
      "source": [
        "fig = plt.figure(figsize=(10, 10))\n",
        "img = plt.imread(FINAL_IMAGE_PATH)\n",
        "plt.axis('off')\n",
        "plt.title('Generated image')\n",
        "plt.imshow(img)"
      ],
      "metadata": {
        "id": "evTJi_EMOo2C"
      },
      "execution_count": null,
      "outputs": []
    },
    {
      "cell_type": "markdown",
      "source": [
        "### Applying Color Transfer for improved image quality"
      ],
      "metadata": {
        "id": "eBX7rYBc7cW9"
      }
    },
    {
      "cell_type": "code",
      "source": [
        "COLOR_TRANSFER = 'color_transfer.py'\n",
        "COLOR_FINAL_IMAGE_PATH = FINAL_IMAGE_PATH[:-4] + '_%s_color.png'\n",
        "\n",
        "# Optional - Use Histogram matching (0 for no, 1 for yes)\n",
        "HISTOGRAM_MATCH = 0\n",
        "\n",
        "if HISTOGRAM_MATCH == 0:\n",
        "  COLOR_FINAL_IMAGE_PATH = COLOR_FINAL_IMAGE_PATH % ('original')\n",
        "else:\n",
        "  COLOR_FINAL_IMAGE_PATH = COLOR_FINAL_IMAGE_PATH % ('histogram')\n",
        "  \n",
        "\n",
        "!python {dir_path}/{COLOR_TRANSFER} {CONTENT_IMAGE_FN} {FINAL_IMAGE_PATH} --hist_match {HISTOGRAM_MATCH}"
      ],
      "metadata": {
        "id": "OQxuchLKOpx9"
      },
      "execution_count": null,
      "outputs": []
    },
    {
      "cell_type": "markdown",
      "source": [
        "### Storing The Color Transferred Generated image"
      ],
      "metadata": {
        "id": "0Ai68bNV7djG"
      }
    },
    {
      "cell_type": "code",
      "source": [
        "fig = plt.figure(figsize=(10, 10))\n",
        "img = plt.imread(COLOR_FINAL_IMAGE_PATH)\n",
        "plt.axis('off')\n",
        "plt.title('Color Transferred Generated image')\n",
        "plt.imshow(img)"
      ],
      "metadata": {
        "id": "gX3-mEpWOtFO"
      },
      "execution_count": null,
      "outputs": []
    },
    {
      "cell_type": "markdown",
      "source": [
        "## Downloading Color Transferred Generated image"
      ],
      "metadata": {
        "id": "5i_AjcXO7eQ_"
      }
    },
    {
      "cell_type": "code",
      "source": [
        "# download the color transfered image\n",
        "files.download(COLOR_FINAL_IMAGE_PATH)"
      ],
      "metadata": {
        "id": "01C4g6qnOwMG"
      },
      "execution_count": null,
      "outputs": []
    },
    {
      "cell_type": "markdown",
      "source": [
        "## Downloading Color Transferred Generated image"
      ],
      "metadata": {
        "id": "Sjstru3xKpsa"
      }
    },
    {
      "cell_type": "code",
      "source": [
        "files.download(FINAL_IMAGE_PATH)"
      ],
      "metadata": {
        "id": "5x1u9FLrBD0U"
      },
      "execution_count": null,
      "outputs": []
    }
  ]
}